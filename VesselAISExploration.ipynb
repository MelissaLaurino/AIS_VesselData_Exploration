{
 "cells": [
  {
   "cell_type": "markdown",
   "id": "b03ef925",
   "metadata": {},
   "source": [
    "Melissa Laurino <br>\n",
    "3/30/2022<br>\n",
    "Data Exploration with Vessel AIS Data<br>"
   ]
  },
  {
   "cell_type": "code",
   "execution_count": 1,
   "id": "baaf52b5",
   "metadata": {},
   "outputs": [
    {
     "name": "stdout",
     "output_type": "stream",
     "text": [
      "Last updated:\n",
      "2022-04-16 08:39:51.893693\n"
     ]
    }
   ],
   "source": [
    "print ('Last updated:')\n",
    "import datetime\n",
    "date = datetime.datetime.now()\n",
    "print (date)"
   ]
  },
  {
   "cell_type": "code",
   "execution_count": 2,
   "id": "eda266dd",
   "metadata": {},
   "outputs": [],
   "source": [
    "#Import necessary libraries:\n",
    "import csv\n",
    "import pandas as pd #Data import\n",
    "import numpy as np #Math functions\n",
    "import matplotlib.pyplot as plt #Graphing library"
   ]
  },
  {
   "cell_type": "code",
   "execution_count": 3,
   "id": "0f4e30ab",
   "metadata": {},
   "outputs": [],
   "source": [
    "#Import 2020 AIS data using Pandas:\n",
    "AIS = pd.read_csv('2020AISDATA.csv', low_memory=False)"
   ]
  },
  {
   "cell_type": "code",
   "execution_count": 5,
   "id": "b45f2cc6",
   "metadata": {},
   "outputs": [],
   "source": [
    "#print (AIS)\n",
    "#Data has [10368973 rows x 17 columns]"
   ]
  },
  {
   "cell_type": "code",
   "execution_count": 4,
   "id": "1864d50f",
   "metadata": {},
   "outputs": [
    {
     "name": "stdout",
     "output_type": "stream",
     "text": [
      "Index(['MMSI', 'BaseDateTime', 'LAT', 'LON', 'SOG', 'COG', 'Heading',\n",
      "       'VesselName', 'IMO', 'CallSign', 'VesselType', 'Status', 'Length',\n",
      "       'Width', 'Draft', 'Cargo', 'TransceiverClass'],\n",
      "      dtype='object')\n"
     ]
    }
   ],
   "source": [
    "#Show the columns of the data:\n",
    "print (AIS.columns)"
   ]
  },
  {
   "cell_type": "code",
   "execution_count": 6,
   "id": "f8f2bc41",
   "metadata": {},
   "outputs": [
    {
     "data": {
      "text/plain": [
       "0    368016810\n",
       "1    368016810\n",
       "2    368016810\n",
       "3    367131650\n",
       "4    367398120\n",
       "Name: MMSI, dtype: int64"
      ]
     },
     "execution_count": 6,
     "metadata": {},
     "output_type": "execute_result"
    }
   ],
   "source": [
    "#Let's check the format of the MMSI column that will help us identify individual vessels in our data:\n",
    "MMSI=AIS[\"MMSI\"]\n",
    "MMSI.head()"
   ]
  },
  {
   "cell_type": "code",
   "execution_count": 7,
   "id": "d52999fe",
   "metadata": {},
   "outputs": [
    {
     "name": "stdout",
     "output_type": "stream",
     "text": [
      "No.of.unique values : 3674\n"
     ]
    }
   ],
   "source": [
    "n = len(pd.unique(AIS['MMSI']))\n",
    "print(\"No.of.unique values :\", n)\n",
    "#3674 Unique MMSI numbers"
   ]
  },
  {
   "cell_type": "code",
   "execution_count": 8,
   "id": "2e498013",
   "metadata": {},
   "outputs": [
    {
     "data": {
      "text/html": [
       "<div>\n",
       "<style scoped>\n",
       "    .dataframe tbody tr th:only-of-type {\n",
       "        vertical-align: middle;\n",
       "    }\n",
       "\n",
       "    .dataframe tbody tr th {\n",
       "        vertical-align: top;\n",
       "    }\n",
       "\n",
       "    .dataframe thead th {\n",
       "        text-align: right;\n",
       "    }\n",
       "</style>\n",
       "<table border=\"1\" class=\"dataframe\">\n",
       "  <thead>\n",
       "    <tr style=\"text-align: right;\">\n",
       "      <th></th>\n",
       "      <th>MMSI</th>\n",
       "      <th>BaseDateTime</th>\n",
       "      <th>LAT</th>\n",
       "      <th>LON</th>\n",
       "      <th>SOG</th>\n",
       "      <th>COG</th>\n",
       "      <th>Heading</th>\n",
       "      <th>VesselName</th>\n",
       "      <th>IMO</th>\n",
       "      <th>CallSign</th>\n",
       "      <th>VesselType</th>\n",
       "      <th>Status</th>\n",
       "      <th>Length</th>\n",
       "      <th>Width</th>\n",
       "      <th>Draft</th>\n",
       "      <th>Cargo</th>\n",
       "      <th>TransceiverClass</th>\n",
       "    </tr>\n",
       "  </thead>\n",
       "  <tbody>\n",
       "    <tr>\n",
       "      <th>1215290</th>\n",
       "      <td>367552480</td>\n",
       "      <td>2020-04-22T15:32:17</td>\n",
       "      <td>38.94972</td>\n",
       "      <td>-74.90893</td>\n",
       "      <td>0.0</td>\n",
       "      <td>309.7</td>\n",
       "      <td>511.0</td>\n",
       "      <td>AMERICAN STAR</td>\n",
       "      <td>NaN</td>\n",
       "      <td>WDG6001</td>\n",
       "      <td>60.0</td>\n",
       "      <td>NaN</td>\n",
       "      <td>24.0</td>\n",
       "      <td>NaN</td>\n",
       "      <td>NaN</td>\n",
       "      <td>NaN</td>\n",
       "      <td>B</td>\n",
       "    </tr>\n",
       "    <tr>\n",
       "      <th>1215291</th>\n",
       "      <td>367552480</td>\n",
       "      <td>2020-04-22T15:34:11</td>\n",
       "      <td>38.94970</td>\n",
       "      <td>-74.90893</td>\n",
       "      <td>0.0</td>\n",
       "      <td>309.7</td>\n",
       "      <td>511.0</td>\n",
       "      <td>AMERICAN STAR</td>\n",
       "      <td>NaN</td>\n",
       "      <td>WDG6001</td>\n",
       "      <td>60.0</td>\n",
       "      <td>NaN</td>\n",
       "      <td>24.0</td>\n",
       "      <td>NaN</td>\n",
       "      <td>NaN</td>\n",
       "      <td>NaN</td>\n",
       "      <td>B</td>\n",
       "    </tr>\n",
       "    <tr>\n",
       "      <th>1215292</th>\n",
       "      <td>367552480</td>\n",
       "      <td>2020-04-22T15:37:10</td>\n",
       "      <td>38.94970</td>\n",
       "      <td>-74.90893</td>\n",
       "      <td>0.0</td>\n",
       "      <td>309.7</td>\n",
       "      <td>511.0</td>\n",
       "      <td>AMERICAN STAR</td>\n",
       "      <td>NaN</td>\n",
       "      <td>WDG6001</td>\n",
       "      <td>60.0</td>\n",
       "      <td>NaN</td>\n",
       "      <td>24.0</td>\n",
       "      <td>NaN</td>\n",
       "      <td>NaN</td>\n",
       "      <td>NaN</td>\n",
       "      <td>B</td>\n",
       "    </tr>\n",
       "    <tr>\n",
       "      <th>1215293</th>\n",
       "      <td>367552480</td>\n",
       "      <td>2020-04-22T15:40:11</td>\n",
       "      <td>38.94971</td>\n",
       "      <td>-74.90892</td>\n",
       "      <td>0.0</td>\n",
       "      <td>309.7</td>\n",
       "      <td>511.0</td>\n",
       "      <td>AMERICAN STAR</td>\n",
       "      <td>NaN</td>\n",
       "      <td>WDG6001</td>\n",
       "      <td>60.0</td>\n",
       "      <td>NaN</td>\n",
       "      <td>24.0</td>\n",
       "      <td>NaN</td>\n",
       "      <td>NaN</td>\n",
       "      <td>NaN</td>\n",
       "      <td>B</td>\n",
       "    </tr>\n",
       "    <tr>\n",
       "      <th>1215294</th>\n",
       "      <td>367552480</td>\n",
       "      <td>2020-04-22T15:43:11</td>\n",
       "      <td>38.94971</td>\n",
       "      <td>-74.90892</td>\n",
       "      <td>0.0</td>\n",
       "      <td>309.7</td>\n",
       "      <td>511.0</td>\n",
       "      <td>AMERICAN STAR</td>\n",
       "      <td>NaN</td>\n",
       "      <td>WDG6001</td>\n",
       "      <td>60.0</td>\n",
       "      <td>NaN</td>\n",
       "      <td>24.0</td>\n",
       "      <td>NaN</td>\n",
       "      <td>NaN</td>\n",
       "      <td>NaN</td>\n",
       "      <td>B</td>\n",
       "    </tr>\n",
       "    <tr>\n",
       "      <th>...</th>\n",
       "      <td>...</td>\n",
       "      <td>...</td>\n",
       "      <td>...</td>\n",
       "      <td>...</td>\n",
       "      <td>...</td>\n",
       "      <td>...</td>\n",
       "      <td>...</td>\n",
       "      <td>...</td>\n",
       "      <td>...</td>\n",
       "      <td>...</td>\n",
       "      <td>...</td>\n",
       "      <td>...</td>\n",
       "      <td>...</td>\n",
       "      <td>...</td>\n",
       "      <td>...</td>\n",
       "      <td>...</td>\n",
       "      <td>...</td>\n",
       "    </tr>\n",
       "    <tr>\n",
       "      <th>2541630</th>\n",
       "      <td>367552480</td>\n",
       "      <td>2020-11-11T18:39:38</td>\n",
       "      <td>38.95126</td>\n",
       "      <td>-74.88173</td>\n",
       "      <td>6.8</td>\n",
       "      <td>82.7</td>\n",
       "      <td>511.0</td>\n",
       "      <td>AMERICAN STAR</td>\n",
       "      <td>NaN</td>\n",
       "      <td>WDG6001</td>\n",
       "      <td>60.0</td>\n",
       "      <td>NaN</td>\n",
       "      <td>24.0</td>\n",
       "      <td>NaN</td>\n",
       "      <td>NaN</td>\n",
       "      <td>NaN</td>\n",
       "      <td>B</td>\n",
       "    </tr>\n",
       "    <tr>\n",
       "      <th>2587520</th>\n",
       "      <td>367552480</td>\n",
       "      <td>2020-02-29T16:26:46</td>\n",
       "      <td>38.97963</td>\n",
       "      <td>-74.83581</td>\n",
       "      <td>0.0</td>\n",
       "      <td>0.0</td>\n",
       "      <td>511.0</td>\n",
       "      <td>AMERICAN STAR</td>\n",
       "      <td>NaN</td>\n",
       "      <td>WDG6001</td>\n",
       "      <td>60.0</td>\n",
       "      <td>NaN</td>\n",
       "      <td>24.0</td>\n",
       "      <td>NaN</td>\n",
       "      <td>NaN</td>\n",
       "      <td>NaN</td>\n",
       "      <td>B</td>\n",
       "    </tr>\n",
       "    <tr>\n",
       "      <th>2587522</th>\n",
       "      <td>367552480</td>\n",
       "      <td>2020-02-29T16:28:41</td>\n",
       "      <td>38.97963</td>\n",
       "      <td>-74.83581</td>\n",
       "      <td>0.0</td>\n",
       "      <td>0.0</td>\n",
       "      <td>511.0</td>\n",
       "      <td>AMERICAN STAR</td>\n",
       "      <td>NaN</td>\n",
       "      <td>WDG6001</td>\n",
       "      <td>60.0</td>\n",
       "      <td>NaN</td>\n",
       "      <td>24.0</td>\n",
       "      <td>NaN</td>\n",
       "      <td>NaN</td>\n",
       "      <td>NaN</td>\n",
       "      <td>B</td>\n",
       "    </tr>\n",
       "    <tr>\n",
       "      <th>2587525</th>\n",
       "      <td>367552480</td>\n",
       "      <td>2020-02-29T16:31:40</td>\n",
       "      <td>38.97963</td>\n",
       "      <td>-74.83581</td>\n",
       "      <td>0.0</td>\n",
       "      <td>0.0</td>\n",
       "      <td>511.0</td>\n",
       "      <td>AMERICAN STAR</td>\n",
       "      <td>NaN</td>\n",
       "      <td>WDG6001</td>\n",
       "      <td>60.0</td>\n",
       "      <td>NaN</td>\n",
       "      <td>24.0</td>\n",
       "      <td>NaN</td>\n",
       "      <td>NaN</td>\n",
       "      <td>NaN</td>\n",
       "      <td>B</td>\n",
       "    </tr>\n",
       "    <tr>\n",
       "      <th>2587528</th>\n",
       "      <td>367552480</td>\n",
       "      <td>2020-02-29T16:34:40</td>\n",
       "      <td>38.97962</td>\n",
       "      <td>-74.83581</td>\n",
       "      <td>0.0</td>\n",
       "      <td>0.0</td>\n",
       "      <td>511.0</td>\n",
       "      <td>AMERICAN STAR</td>\n",
       "      <td>NaN</td>\n",
       "      <td>WDG6001</td>\n",
       "      <td>60.0</td>\n",
       "      <td>NaN</td>\n",
       "      <td>24.0</td>\n",
       "      <td>NaN</td>\n",
       "      <td>NaN</td>\n",
       "      <td>NaN</td>\n",
       "      <td>B</td>\n",
       "    </tr>\n",
       "  </tbody>\n",
       "</table>\n",
       "<p>45339 rows × 17 columns</p>\n",
       "</div>"
      ],
      "text/plain": [
       "              MMSI         BaseDateTime       LAT       LON  SOG    COG  \\\n",
       "1215290  367552480  2020-04-22T15:32:17  38.94972 -74.90893  0.0  309.7   \n",
       "1215291  367552480  2020-04-22T15:34:11  38.94970 -74.90893  0.0  309.7   \n",
       "1215292  367552480  2020-04-22T15:37:10  38.94970 -74.90893  0.0  309.7   \n",
       "1215293  367552480  2020-04-22T15:40:11  38.94971 -74.90892  0.0  309.7   \n",
       "1215294  367552480  2020-04-22T15:43:11  38.94971 -74.90892  0.0  309.7   \n",
       "...            ...                  ...       ...       ...  ...    ...   \n",
       "2541630  367552480  2020-11-11T18:39:38  38.95126 -74.88173  6.8   82.7   \n",
       "2587520  367552480  2020-02-29T16:26:46  38.97963 -74.83581  0.0    0.0   \n",
       "2587522  367552480  2020-02-29T16:28:41  38.97963 -74.83581  0.0    0.0   \n",
       "2587525  367552480  2020-02-29T16:31:40  38.97963 -74.83581  0.0    0.0   \n",
       "2587528  367552480  2020-02-29T16:34:40  38.97962 -74.83581  0.0    0.0   \n",
       "\n",
       "         Heading     VesselName  IMO CallSign  VesselType  Status  Length  \\\n",
       "1215290    511.0  AMERICAN STAR  NaN  WDG6001        60.0     NaN    24.0   \n",
       "1215291    511.0  AMERICAN STAR  NaN  WDG6001        60.0     NaN    24.0   \n",
       "1215292    511.0  AMERICAN STAR  NaN  WDG6001        60.0     NaN    24.0   \n",
       "1215293    511.0  AMERICAN STAR  NaN  WDG6001        60.0     NaN    24.0   \n",
       "1215294    511.0  AMERICAN STAR  NaN  WDG6001        60.0     NaN    24.0   \n",
       "...          ...            ...  ...      ...         ...     ...     ...   \n",
       "2541630    511.0  AMERICAN STAR  NaN  WDG6001        60.0     NaN    24.0   \n",
       "2587520    511.0  AMERICAN STAR  NaN  WDG6001        60.0     NaN    24.0   \n",
       "2587522    511.0  AMERICAN STAR  NaN  WDG6001        60.0     NaN    24.0   \n",
       "2587525    511.0  AMERICAN STAR  NaN  WDG6001        60.0     NaN    24.0   \n",
       "2587528    511.0  AMERICAN STAR  NaN  WDG6001        60.0     NaN    24.0   \n",
       "\n",
       "         Width  Draft  Cargo TransceiverClass  \n",
       "1215290    NaN    NaN    NaN                B  \n",
       "1215291    NaN    NaN    NaN                B  \n",
       "1215292    NaN    NaN    NaN                B  \n",
       "1215293    NaN    NaN    NaN                B  \n",
       "1215294    NaN    NaN    NaN                B  \n",
       "...        ...    ...    ...              ...  \n",
       "2541630    NaN    NaN    NaN                B  \n",
       "2587520    NaN    NaN    NaN                B  \n",
       "2587522    NaN    NaN    NaN                B  \n",
       "2587525    NaN    NaN    NaN                B  \n",
       "2587528    NaN    NaN    NaN                B  \n",
       "\n",
       "[45339 rows x 17 columns]"
      ]
     },
     "execution_count": 8,
     "metadata": {},
     "output_type": "execute_result"
    }
   ],
   "source": [
    "#What does the data look like for a vessel we know - The American Star?\n",
    "AIS[AIS.MMSI == 367552480]"
   ]
  },
  {
   "cell_type": "code",
   "execution_count": 10,
   "id": "7bcdf2d7",
   "metadata": {},
   "outputs": [
    {
     "data": {
      "text/plain": [
       "<bound method NDFrame.head of               MMSI         BaseDateTime       LAT       LON  SOG    COG  \\\n",
       "1215290  367552480  2020-04-22T15:32:17  38.94972 -74.90893  0.0  309.7   \n",
       "1215291  367552480  2020-04-22T15:34:11  38.94970 -74.90893  0.0  309.7   \n",
       "1215292  367552480  2020-04-22T15:37:10  38.94970 -74.90893  0.0  309.7   \n",
       "1215293  367552480  2020-04-22T15:40:11  38.94971 -74.90892  0.0  309.7   \n",
       "1215294  367552480  2020-04-22T15:43:11  38.94971 -74.90892  0.0  309.7   \n",
       "...            ...                  ...       ...       ...  ...    ...   \n",
       "2541630  367552480  2020-11-11T18:39:38  38.95126 -74.88173  6.8   82.7   \n",
       "2587520  367552480  2020-02-29T16:26:46  38.97963 -74.83581  0.0    0.0   \n",
       "2587522  367552480  2020-02-29T16:28:41  38.97963 -74.83581  0.0    0.0   \n",
       "2587525  367552480  2020-02-29T16:31:40  38.97963 -74.83581  0.0    0.0   \n",
       "2587528  367552480  2020-02-29T16:34:40  38.97962 -74.83581  0.0    0.0   \n",
       "\n",
       "         Heading     VesselName  IMO CallSign  VesselType  Status  Length  \\\n",
       "1215290    511.0  AMERICAN STAR  NaN  WDG6001        60.0     NaN    24.0   \n",
       "1215291    511.0  AMERICAN STAR  NaN  WDG6001        60.0     NaN    24.0   \n",
       "1215292    511.0  AMERICAN STAR  NaN  WDG6001        60.0     NaN    24.0   \n",
       "1215293    511.0  AMERICAN STAR  NaN  WDG6001        60.0     NaN    24.0   \n",
       "1215294    511.0  AMERICAN STAR  NaN  WDG6001        60.0     NaN    24.0   \n",
       "...          ...            ...  ...      ...         ...     ...     ...   \n",
       "2541630    511.0  AMERICAN STAR  NaN  WDG6001        60.0     NaN    24.0   \n",
       "2587520    511.0  AMERICAN STAR  NaN  WDG6001        60.0     NaN    24.0   \n",
       "2587522    511.0  AMERICAN STAR  NaN  WDG6001        60.0     NaN    24.0   \n",
       "2587525    511.0  AMERICAN STAR  NaN  WDG6001        60.0     NaN    24.0   \n",
       "2587528    511.0  AMERICAN STAR  NaN  WDG6001        60.0     NaN    24.0   \n",
       "\n",
       "         Width  Draft  Cargo TransceiverClass  \n",
       "1215290    NaN    NaN    NaN                B  \n",
       "1215291    NaN    NaN    NaN                B  \n",
       "1215292    NaN    NaN    NaN                B  \n",
       "1215293    NaN    NaN    NaN                B  \n",
       "1215294    NaN    NaN    NaN                B  \n",
       "...        ...    ...    ...              ...  \n",
       "2541630    NaN    NaN    NaN                B  \n",
       "2587520    NaN    NaN    NaN                B  \n",
       "2587522    NaN    NaN    NaN                B  \n",
       "2587525    NaN    NaN    NaN                B  \n",
       "2587528    NaN    NaN    NaN                B  \n",
       "\n",
       "[45339 rows x 17 columns]>"
      ]
     },
     "execution_count": 10,
     "metadata": {},
     "output_type": "execute_result"
    }
   ],
   "source": [
    "#Take a subset of the data to only view one vessel.\n",
    "#Let's test it out with our known vessels:\n",
    "AmStar = AIS[(AIS.MMSI==367552480)]\n",
    "AtlStar = AIS [(AIS.MMSI==368146270)]\n",
    "AmStar.head\n",
    "#print (AmStar)\n",
    "#print (AtlStar)"
   ]
  },
  {
   "cell_type": "code",
   "execution_count": 11,
   "id": "ebbd78f4",
   "metadata": {},
   "outputs": [],
   "source": [
    "#Take a subset of the data to only view one vessel:\n",
    "#Now let's try some Menhaden Reduction vessels:\n",
    "Tide = AIS[(AIS.MMSI==367108820)]\n",
    "Calc = AIS[(AIS.MMSI==367108810)]\n",
    "#John = AIS[(AIS.MMSI==367108780)] #Not present in 2019\n",
    "Cock = AIS[(AIS.MMSI==367772272)]\n",
    "Wind = AIS[(AIS.MMSI==367772250)]\n",
    "#Reed = AIS[(AIS.MMSI==367108860)] #Not present in 2019\n",
    "\n",
    "#Combine four vessels into one datasheet quickly using Terminal on Mac: https://serp.co/blog/combine-merge-csv-files-mac/ "
   ]
  },
  {
   "cell_type": "code",
   "execution_count": 12,
   "id": "a4df8350",
   "metadata": {},
   "outputs": [],
   "source": [
    "#Import combined data to double check work:\n",
    "FourVessels = pd.read_csv('FourVesselsCombined2020.csv', low_memory=False)"
   ]
  },
  {
   "cell_type": "code",
   "execution_count": 13,
   "id": "f110c819",
   "metadata": {},
   "outputs": [
    {
     "name": "stdout",
     "output_type": "stream",
     "text": [
      "No.of.unique values : 5\n"
     ]
    }
   ],
   "source": [
    "FourVessels.head\n",
    "n = len(pd.unique(FourVessels['MMSI']))\n",
    "print(\"No.of.unique values :\", n)\n",
    "#5 Unique MMSI numbers - Looks good - Perhaps 5 and not 4 due to blank values?"
   ]
  },
  {
   "cell_type": "code",
   "execution_count": 14,
   "id": "862c8825",
   "metadata": {
    "scrolled": false
   },
   "outputs": [
    {
     "name": "stdout",
     "output_type": "stream",
     "text": [
      "              MMSI         BaseDateTime       LAT       LON   SOG    COG  \\\n",
      "1411319  367108820  2020-10-02T09:25:08  38.93645 -75.10623  12.1  154.3   \n",
      "1411320  367108820  2020-10-02T09:26:18  38.93291 -75.10408  12.1  153.2   \n",
      "1411321  367108820  2020-10-02T09:39:26  38.89177 -75.08109  12.4  156.1   \n",
      "1411322  367108820  2020-10-02T09:41:16  38.88592 -75.07794  12.3  158.9   \n",
      "1411323  367108820  2020-10-02T09:56:36  38.83929 -75.05033  11.5  148.4   \n",
      "...            ...                  ...       ...       ...   ...    ...   \n",
      "2296876  367108820  2020-09-08T17:25:07  38.74543 -74.89430  11.7  187.7   \n",
      "2296877  367108820  2020-09-08T17:26:58  38.73954 -74.89527  11.4  189.8   \n",
      "2296879  367108820  2020-09-08T17:28:07  38.73587 -74.89586  11.6  190.7   \n",
      "2296880  367108820  2020-09-08T17:29:18  38.73204 -74.89651  11.4  188.0   \n",
      "2296881  367108820  2020-09-08T17:30:27  38.72835 -74.89714  11.8  188.1   \n",
      "\n",
      "         Heading VesselName         IMO CallSign  VesselType  Status  Length  \\\n",
      "1411319    511.0  TIDELANDS  IMO7309443   WX5026        30.0     0.0    61.0   \n",
      "1411320    511.0  TIDELANDS  IMO7309443   WX5026        30.0     0.0    61.0   \n",
      "1411321    511.0  TIDELANDS  IMO7309443   WX5026        30.0     0.0    61.0   \n",
      "1411322    511.0  TIDELANDS  IMO7309443   WX5026        30.0     0.0    61.0   \n",
      "1411323    511.0  TIDELANDS  IMO7309443   WX5026        30.0     0.0    61.0   \n",
      "...          ...        ...         ...      ...         ...     ...     ...   \n",
      "2296876    511.0  TIDELANDS  IMO7309443   WX5026        30.0     0.0    61.0   \n",
      "2296877    511.0  TIDELANDS  IMO7309443   WX5026        30.0     0.0    61.0   \n",
      "2296879    511.0  TIDELANDS  IMO7309443   WX5026        30.0     0.0    61.0   \n",
      "2296880    511.0  TIDELANDS  IMO7309443   WX5026        30.0     0.0    61.0   \n",
      "2296881    511.0  TIDELANDS  IMO7309443   WX5026        30.0     0.0    61.0   \n",
      "\n",
      "         Width  Draft  Cargo TransceiverClass  \n",
      "1411319    9.0    NaN    NaN                A  \n",
      "1411320    9.0    NaN    NaN                A  \n",
      "1411321    9.0    NaN    NaN                A  \n",
      "1411322    9.0    NaN    NaN                A  \n",
      "1411323    9.0    NaN    NaN                A  \n",
      "...        ...    ...    ...              ...  \n",
      "2296876    9.0    NaN    NaN                A  \n",
      "2296877    9.0    NaN    NaN                A  \n",
      "2296879    9.0    NaN    NaN                A  \n",
      "2296880    9.0    NaN    NaN                A  \n",
      "2296881    9.0    NaN    NaN                A  \n",
      "\n",
      "[5803 rows x 17 columns]\n",
      "              MMSI         BaseDateTime       LAT       LON   SOG    COG  \\\n",
      "5240178  367108810  2020-10-02T10:02:21  38.93736 -75.10524  11.5  153.9   \n",
      "5240179  367108810  2020-10-02T10:03:32  38.93413 -75.10303  11.2  153.2   \n",
      "5240180  367108810  2020-10-02T10:04:40  38.93089 -75.10099  11.2  151.5   \n",
      "5240181  367108810  2020-10-02T10:05:52  38.92761 -75.09886  11.4  153.2   \n",
      "5240182  367108810  2020-10-02T10:07:00  38.92433 -75.09691  11.5  154.2   \n",
      "...            ...                  ...       ...       ...   ...    ...   \n",
      "5604926  367108810  2020-06-29T16:15:33  38.74437 -74.83322  11.6  198.9   \n",
      "5604927  367108810  2020-06-29T16:17:24  38.73873 -74.83575  11.5  199.3   \n",
      "5604928  367108810  2020-06-29T16:18:33  38.73526 -74.83732  11.6  201.3   \n",
      "5604929  367108810  2020-06-29T16:20:24  38.72946 -74.83983  12.1  196.8   \n",
      "5604930  367108810  2020-06-29T16:21:33  38.72592 -74.84141  11.9  199.1   \n",
      "\n",
      "         Heading      VesselName         IMO CallSign  VesselType  Status  \\\n",
      "5240178    511.0  CALCASIEU PASS  IMO8201076  WUR4227        30.0     5.0   \n",
      "5240179    511.0  CALCASIEU PASS  IMO8201076  WUR4227        30.0     5.0   \n",
      "5240180    511.0  CALCASIEU PASS  IMO8201076  WUR4227        30.0     5.0   \n",
      "5240181    511.0  CALCASIEU PASS  IMO8201076  WUR4227        30.0     5.0   \n",
      "5240182    511.0  CALCASIEU PASS  IMO8201076  WUR4227        30.0     5.0   \n",
      "...          ...             ...         ...      ...         ...     ...   \n",
      "5604926    511.0  CALCASIEU PASS  IMO8201076  WUR4227        30.0     5.0   \n",
      "5604927    511.0  CALCASIEU PASS  IMO8201076  WUR4227        30.0     5.0   \n",
      "5604928    511.0  CALCASIEU PASS  IMO8201076  WUR4227        30.0     5.0   \n",
      "5604929    511.0  CALCASIEU PASS  IMO8201076  WUR4227        30.0     5.0   \n",
      "5604930    511.0  CALCASIEU PASS  IMO8201076  WUR4227        30.0     5.0   \n",
      "\n",
      "         Length  Width  Draft  Cargo TransceiverClass  \n",
      "5240178    50.0   11.0    3.9    NaN                A  \n",
      "5240179    50.0   11.0    3.9    NaN                A  \n",
      "5240180    50.0   11.0    3.9    NaN                A  \n",
      "5240181    50.0   11.0    3.9    NaN                A  \n",
      "5240182    50.0   11.0    3.9    NaN                A  \n",
      "...         ...    ...    ...    ...              ...  \n",
      "5604926    50.0   11.0    3.9    NaN                A  \n",
      "5604927    50.0   11.0    3.9    NaN                A  \n",
      "5604928    50.0   11.0    3.9    NaN                A  \n",
      "5604929    50.0   11.0    3.9    NaN                A  \n",
      "5604930    50.0   11.0    3.9    NaN                A  \n",
      "\n",
      "[2595 rows x 17 columns]\n",
      "             MMSI         BaseDateTime       LAT       LON   SOG    COG  \\\n",
      "389986  367772272  2020-06-01T10:44:24  38.72587 -74.84516  12.2    9.1   \n",
      "389989  367772272  2020-06-01T10:45:34  38.72978 -74.84442  12.2    9.7   \n",
      "389993  367772272  2020-06-01T10:46:44  38.73353 -74.84359  11.5   11.0   \n",
      "389997  367772272  2020-06-01T10:47:54  38.73735 -74.84272  12.2   10.2   \n",
      "390000  367772272  2020-06-01T10:49:04  38.74116 -74.84180  11.5   12.1   \n",
      "...           ...                  ...       ...       ...   ...    ...   \n",
      "920720  367772272  2020-10-14T13:12:57  38.74619 -74.79880  12.8  193.7   \n",
      "920724  367772272  2020-10-14T13:14:07  38.74237 -74.80032  12.3  198.8   \n",
      "920732  367772272  2020-10-14T13:16:07  38.73580 -74.80339  12.7  200.0   \n",
      "920737  367772272  2020-10-14T13:17:26  38.73155 -74.80547  12.3  201.5   \n",
      "920744  367772272  2020-10-14T13:18:47  38.72717 -74.80760  12.5  200.4   \n",
      "\n",
      "        Heading VesselName  IMO CallSign  VesselType  Status  Length  Width  \\\n",
      "389986    511.0        NaN  NaN      NaN         NaN    15.0     NaN    NaN   \n",
      "389989    511.0        NaN  NaN      NaN         NaN    15.0     NaN    NaN   \n",
      "389993    511.0        NaN  NaN      NaN         NaN    15.0     NaN    NaN   \n",
      "389997    511.0        NaN  NaN      NaN         NaN    15.0     NaN    NaN   \n",
      "390000    511.0        NaN  NaN      NaN         NaN    15.0     NaN    NaN   \n",
      "...         ...        ...  ...      ...         ...     ...     ...    ...   \n",
      "920720    511.0        NaN  NaN      NaN         NaN    15.0     NaN    NaN   \n",
      "920724    511.0        NaN  NaN      NaN         NaN    15.0     NaN    NaN   \n",
      "920732    511.0        NaN  NaN      NaN         NaN    15.0     NaN    NaN   \n",
      "920737    511.0        NaN  NaN      NaN         NaN    15.0     NaN    NaN   \n",
      "920744    511.0        NaN  NaN      NaN         NaN    15.0     NaN    NaN   \n",
      "\n",
      "        Draft  Cargo TransceiverClass  \n",
      "389986    NaN    NaN                A  \n",
      "389989    NaN    NaN                A  \n",
      "389993    NaN    NaN                A  \n",
      "389997    NaN    NaN                A  \n",
      "390000    NaN    NaN                A  \n",
      "...       ...    ...              ...  \n",
      "920720    NaN    NaN                A  \n",
      "920724    NaN    NaN                A  \n",
      "920732    NaN    NaN                A  \n",
      "920737    NaN    NaN                A  \n",
      "920744    NaN    NaN                A  \n",
      "\n",
      "[6157 rows x 17 columns]\n",
      "              MMSI         BaseDateTime       LAT       LON   SOG    COG  \\\n",
      "6401216  367772250  2020-06-22T10:59:50  38.72694 -74.83891  11.6   23.6   \n",
      "6401218  367772250  2020-06-22T11:00:39  38.72943 -74.83759  11.4   22.6   \n",
      "6401219  367772250  2020-06-22T11:01:50  38.73297 -74.83579  11.7   22.2   \n",
      "6401221  367772250  2020-06-22T11:02:59  38.73643 -74.83392  11.7   22.6   \n",
      "6401223  367772250  2020-06-22T11:04:09  38.73997 -74.83203  11.7   23.0   \n",
      "...            ...                  ...       ...       ...   ...    ...   \n",
      "8184924  367772250  2020-10-14T13:16:05  38.74621 -74.79506  11.7  197.1   \n",
      "8184925  367772250  2020-10-14T13:17:16  38.74235 -74.79666  12.4  197.9   \n",
      "8184926  367772250  2020-10-14T13:18:24  38.73869 -74.79816  12.3  197.6   \n",
      "8184927  367772250  2020-10-14T13:20:16  38.73271 -74.80071  12.5  198.4   \n",
      "8184928  367772250  2020-10-14T13:21:24  38.72906 -74.80226  12.0  198.7   \n",
      "\n",
      "         Heading      VesselName         IMO CallSign  VesselType  Status  \\\n",
      "6401216    511.0  WINDMILL POINT  IMO8305511  WDJ3875        90.0    15.0   \n",
      "6401218    511.0  WINDMILL POINT  IMO8305511  WDJ3875        90.0    15.0   \n",
      "6401219    511.0  WINDMILL POINT  IMO8305511  WDJ3875        90.0    15.0   \n",
      "6401221    511.0  WINDMILL POINT  IMO8305511  WDJ3875        90.0    15.0   \n",
      "6401223    511.0  WINDMILL POINT  IMO8305511  WDJ3875        90.0    15.0   \n",
      "...          ...             ...         ...      ...         ...     ...   \n",
      "8184924    511.0  WINDMILL POINT  IMO8305511  WDJ3875        90.0    15.0   \n",
      "8184925    511.0  WINDMILL POINT  IMO8305511  WDJ3875        90.0    15.0   \n",
      "8184926    511.0  WINDMILL POINT  IMO8305511  WDJ3875        90.0    15.0   \n",
      "8184927    511.0  WINDMILL POINT  IMO8305511  WDJ3875        90.0    15.0   \n",
      "8184928    511.0  WINDMILL POINT  IMO8305511  WDJ3875        90.0    15.0   \n",
      "\n",
      "         Length  Width  Draft  Cargo TransceiverClass  \n",
      "6401216    56.0   11.0    3.6    NaN                A  \n",
      "6401218    56.0   11.0    3.6    NaN                A  \n",
      "6401219    56.0   11.0    3.6    NaN                A  \n",
      "6401221    56.0   11.0    3.6    NaN                A  \n",
      "6401223    56.0   11.0    3.6    NaN                A  \n",
      "...         ...    ...    ...    ...              ...  \n",
      "8184924    56.0   11.0    3.6    NaN                A  \n",
      "8184925    56.0   11.0    3.6    NaN                A  \n",
      "8184926    56.0   11.0    3.6    NaN                A  \n",
      "8184927    56.0   11.0    3.6    NaN                A  \n",
      "8184928    56.0   11.0    3.6    NaN                A  \n",
      "\n",
      "[5263 rows x 17 columns]\n"
     ]
    }
   ],
   "source": [
    "#Which boats are used in our defined area?\n",
    "print (Tide) #Yes\n",
    "print (Calc) #Yes\n",
    "#print (John) #NO\n",
    "print (Cock) #Yes\n",
    "print (Wind) #Yes\n",
    "#print (Reed) #NO"
   ]
  },
  {
   "cell_type": "code",
   "execution_count": 109,
   "id": "90584c38",
   "metadata": {},
   "outputs": [],
   "source": [
    "#Save data frame to a new CSV file:\n",
    "#AmStar.to_csv('AmericanStarAIS2020.csv')\n",
    "\n",
    "#Save data frame to a new CSV file with only specific columns:\n",
    "#df = pd.read_csv(\"AmericanStarAIS2020.csv\", usecols = ['MMSI','LAT', 'LON', 'VesselName'])\n",
    "#print (df)\n",
    "#df.to_csv('AmericanStar2020LatLon.csv')"
   ]
  },
  {
   "cell_type": "code",
   "execution_count": 16,
   "id": "b7cf2be1",
   "metadata": {},
   "outputs": [],
   "source": [
    "#Save data frame to a new CSV file:\n",
    "#Calc.to_csv('CalcAIS2020.csv') - Worked\n",
    "#Tide.to_csv('TideAIS2020.csv')\n",
    "#Cock.to_csv('CockAIS2020.csv')\n",
    "#Wind.to_csv('WindAIS2020.csv')"
   ]
  },
  {
   "cell_type": "code",
   "execution_count": 89,
   "id": "10b7df24",
   "metadata": {},
   "outputs": [],
   "source": [
    "#Let's try with another data file:"
   ]
  },
  {
   "cell_type": "code",
   "execution_count": 16,
   "id": "d7889371",
   "metadata": {},
   "outputs": [],
   "source": [
    "#Import 2019 AIS data using Pandas\n",
    "AIS2019 = pd.read_csv('2019AISData.csv', low_memory=False)"
   ]
  },
  {
   "cell_type": "code",
   "execution_count": 17,
   "id": "e70319ac",
   "metadata": {},
   "outputs": [],
   "source": [
    "#print (AIS2.columns)"
   ]
  },
  {
   "cell_type": "code",
   "execution_count": 18,
   "id": "dbce9fd1",
   "metadata": {},
   "outputs": [],
   "source": [
    "#Take a subset of the data to only view one vessel:\n",
    "AmStar2019 = AIS2019[(AIS2019.MMSI==367552480)]"
   ]
  },
  {
   "cell_type": "code",
   "execution_count": 19,
   "id": "5bd68ed1",
   "metadata": {},
   "outputs": [
    {
     "name": "stdout",
     "output_type": "stream",
     "text": [
      "              MMSI         BaseDateTime       LAT       LON   SOG    COG  \\\n",
      "1700583  367552480  2019-02-08T21:10:28  38.97962 -74.83584   0.0    0.0   \n",
      "1700584  367552480  2019-02-08T21:12:21  38.97961 -74.83583   0.0    0.0   \n",
      "1700585  367552480  2019-02-08T21:15:22  38.97961 -74.83583   0.0    0.0   \n",
      "1700586  367552480  2019-02-08T21:18:22  38.97961 -74.83583   0.0    0.0   \n",
      "1700587  367552480  2019-02-08T21:21:22  38.97960 -74.83582   0.0    0.0   \n",
      "...            ...                  ...       ...       ...   ...    ...   \n",
      "1777331  367552480  2019-11-03T18:19:05  38.94818 -74.87331  11.6  144.9   \n",
      "1777332  367552480  2019-11-03T18:20:06  38.94540 -74.87113  11.7  150.2   \n",
      "1777333  367552480  2019-11-03T18:21:35  38.94110 -74.86768  12.3  148.0   \n",
      "1777335  367552480  2019-11-03T18:22:36  38.93824 -74.86524  11.7  148.1   \n",
      "1777336  367552480  2019-11-03T18:23:37  38.93545 -74.86390   9.9  214.3   \n",
      "\n",
      "         Heading     VesselName  IMO CallSign  VesselType  Status  Length  \\\n",
      "1700583    511.0  AMERICAN STAR  NaN  WDG6001        60.0     NaN    24.0   \n",
      "1700584    511.0  AMERICAN STAR  NaN  WDG6001        60.0     NaN    24.0   \n",
      "1700585    511.0  AMERICAN STAR  NaN  WDG6001        60.0     NaN    24.0   \n",
      "1700586    511.0  AMERICAN STAR  NaN  WDG6001        60.0     NaN    24.0   \n",
      "1700587    511.0  AMERICAN STAR  NaN  WDG6001        60.0     NaN    24.0   \n",
      "...          ...            ...  ...      ...         ...     ...     ...   \n",
      "1777331    511.0  AMERICAN STAR  NaN  WDG6001        60.0     NaN    24.0   \n",
      "1777332    511.0  AMERICAN STAR  NaN  WDG6001        60.0     NaN    24.0   \n",
      "1777333    511.0  AMERICAN STAR  NaN  WDG6001        60.0     NaN    24.0   \n",
      "1777335    511.0  AMERICAN STAR  NaN  WDG6001        60.0     NaN    24.0   \n",
      "1777336    511.0  AMERICAN STAR  NaN  WDG6001        60.0     NaN    24.0   \n",
      "\n",
      "         Width  Draft  Cargo TransceiverClass  \n",
      "1700583    NaN    NaN    NaN                B  \n",
      "1700584    NaN    NaN    NaN                B  \n",
      "1700585    NaN    NaN    NaN                B  \n",
      "1700586    NaN    NaN    NaN                B  \n",
      "1700587    NaN    NaN    NaN                B  \n",
      "...        ...    ...    ...              ...  \n",
      "1777331    NaN    NaN    NaN                B  \n",
      "1777332    NaN    NaN    NaN                B  \n",
      "1777333    NaN    NaN    NaN                B  \n",
      "1777335    NaN    NaN    NaN                B  \n",
      "1777336    NaN    NaN    NaN                B  \n",
      "\n",
      "[38906 rows x 17 columns]\n"
     ]
    }
   ],
   "source": [
    "print (AmStar2019)"
   ]
  },
  {
   "cell_type": "code",
   "execution_count": 52,
   "id": "b84a1771",
   "metadata": {},
   "outputs": [],
   "source": [
    "#Take a subset of the data to only view one vessel:\n",
    "#Now let's try some Menhaden Reduction vessels:\n",
    "Tide2019 = AIS2019[(AIS2019.MMSI==367108820)]\n",
    "Calc2019 = AIS2019[(AIS2019.MMSI==367108810)]\n",
    "John2019 = AIS2019[(AIS2019.MMSI==367108780)]\n",
    "Cock2019 = AIS2019[(AIS2019.MMSI==367772272)]\n",
    "Wind2019 = AIS2019[(AIS2019.MMSI==367772250)]\n",
    "Reed2019 = AIS2019[(AIS2019.MMSI==367108860)]"
   ]
  },
  {
   "cell_type": "code",
   "execution_count": 53,
   "id": "6936059d",
   "metadata": {},
   "outputs": [
    {
     "name": "stdout",
     "output_type": "stream",
     "text": [
      "              MMSI         BaseDateTime       LAT       LON   SOG    COG  \\\n",
      "2124097  367108820  2019-07-15T10:17:34  38.77574 -74.85520  12.2   22.7   \n",
      "2124098  367108820  2019-07-15T10:19:34  38.78188 -74.85159  12.2   18.0   \n",
      "2124100  367108820  2019-07-15T10:20:45  38.78576 -74.85000  12.3   18.7   \n",
      "2124101  367108820  2019-07-15T10:22:03  38.79008 -74.84813  12.4   17.6   \n",
      "2124103  367108820  2019-07-15T10:23:13  38.79392 -74.84649  12.6   18.6   \n",
      "...            ...                  ...       ...       ...   ...    ...   \n",
      "2133528  367108820  2019-08-05T11:01:07  38.79283 -74.85125  12.8  192.7   \n",
      "2133530  367108820  2019-08-05T11:02:26  38.78825 -74.85236  12.6  193.1   \n",
      "2133531  367108820  2019-08-05T11:03:36  38.78417 -74.85350  12.9  193.5   \n",
      "2133533  367108820  2019-08-05T11:04:46  38.78016 -74.85452  12.8  191.7   \n",
      "2133534  367108820  2019-08-05T11:05:55  38.77610 -74.85569  12.7  200.7   \n",
      "\n",
      "         Heading VesselName         IMO CallSign  VesselType  Status  Length  \\\n",
      "2124097    511.0  TIDELANDS  IMO7309443   WX5026        30.0     0.0    61.0   \n",
      "2124098    511.0  TIDELANDS  IMO7309443   WX5026        30.0     0.0    61.0   \n",
      "2124100    511.0  TIDELANDS  IMO7309443   WX5026        30.0     0.0    61.0   \n",
      "2124101    511.0  TIDELANDS  IMO7309443   WX5026        30.0     0.0    61.0   \n",
      "2124103    511.0  TIDELANDS  IMO7309443   WX5026        30.0     0.0    61.0   \n",
      "...          ...        ...         ...      ...         ...     ...     ...   \n",
      "2133528    511.0  TIDELANDS  IMO7309443   WX5026        30.0     0.0    61.0   \n",
      "2133530    511.0  TIDELANDS  IMO7309443   WX5026        30.0     0.0    61.0   \n",
      "2133531    511.0  TIDELANDS  IMO7309443   WX5026        30.0     0.0    61.0   \n",
      "2133533    511.0  TIDELANDS  IMO7309443   WX5026        30.0     0.0    61.0   \n",
      "2133534    511.0  TIDELANDS  IMO7309443   WX5026        30.0     0.0    61.0   \n",
      "\n",
      "         Width  Draft  Cargo TransceiverClass  \n",
      "2124097    9.0    NaN    NaN                A  \n",
      "2124098    9.0    NaN    NaN                A  \n",
      "2124100    9.0    NaN    NaN                A  \n",
      "2124101    9.0    NaN    NaN                A  \n",
      "2124103    9.0    NaN    NaN                A  \n",
      "...        ...    ...    ...              ...  \n",
      "2133528    9.0    NaN    NaN                A  \n",
      "2133530    9.0    NaN    NaN                A  \n",
      "2133531    9.0    NaN    NaN                A  \n",
      "2133533    9.0    NaN    NaN                A  \n",
      "2133534    9.0    NaN    NaN                A  \n",
      "\n",
      "[455 rows x 17 columns]\n",
      "              MMSI         BaseDateTime       LAT       LON   SOG    COG  \\\n",
      "5281926  367108810  2019-07-15T10:24:04  38.77682 -74.85453  11.9   18.4   \n",
      "5281931  367108810  2019-07-15T10:26:14  38.78349 -74.85151  12.1   19.4   \n",
      "5281932  367108810  2019-07-15T10:27:25  38.78728 -74.84990  11.9   17.9   \n",
      "5281936  367108810  2019-07-15T10:29:05  38.79263 -74.84789  12.2   15.3   \n",
      "5281939  367108810  2019-07-15T10:30:25  38.79698 -74.84624  12.3   17.2   \n",
      "...            ...                  ...       ...       ...   ...    ...   \n",
      "5284018  367108810  2019-07-18T23:12:58  38.78872 -74.80304  11.6  214.0   \n",
      "5284019  367108810  2019-07-18T23:14:17  38.78524 -74.80602  11.4  214.6   \n",
      "5284021  367108810  2019-07-18T23:15:27  38.78219 -74.80858  11.5  212.3   \n",
      "5284022  367108810  2019-07-18T23:16:38  38.77903 -74.81087  11.6  200.0   \n",
      "5284023  367108810  2019-07-18T23:17:48  38.77562 -74.81265  11.0  204.7   \n",
      "\n",
      "         Heading      VesselName         IMO CallSign  VesselType  Status  \\\n",
      "5281926    511.0  CALCASIEU PASS  IMO8201076  WUR4227        30.0     5.0   \n",
      "5281931    511.0  CALCASIEU PASS  IMO8201076  WUR4227        30.0     5.0   \n",
      "5281932    511.0  CALCASIEU PASS  IMO8201076  WUR4227        30.0     5.0   \n",
      "5281936    511.0  CALCASIEU PASS  IMO8201076  WUR4227        30.0     5.0   \n",
      "5281939    511.0  CALCASIEU PASS  IMO8201076  WUR4227        30.0     5.0   \n",
      "...          ...             ...         ...      ...         ...     ...   \n",
      "5284018    511.0  CALCASIEU PASS  IMO8201076  WUR4227        30.0     5.0   \n",
      "5284019    511.0  CALCASIEU PASS  IMO8201076  WUR4227        30.0     5.0   \n",
      "5284021    511.0  CALCASIEU PASS  IMO8201076  WUR4227        30.0     5.0   \n",
      "5284022    511.0  CALCASIEU PASS  IMO8201076  WUR4227        30.0     5.0   \n",
      "5284023    511.0  CALCASIEU PASS  IMO8201076  WUR4227        30.0     5.0   \n",
      "\n",
      "         Length  Width  Draft  Cargo TransceiverClass  \n",
      "5281926    50.0   11.0    3.9    NaN                A  \n",
      "5281931    50.0   11.0    3.9    NaN                A  \n",
      "5281932    50.0   11.0    3.9    NaN                A  \n",
      "5281936    50.0   11.0    3.9    NaN                A  \n",
      "5281939    50.0   11.0    3.9    NaN                A  \n",
      "...         ...    ...    ...    ...              ...  \n",
      "5284018    50.0   11.0    3.9    NaN                A  \n",
      "5284019    50.0   11.0    3.9    NaN                A  \n",
      "5284021    50.0   11.0    3.9    NaN                A  \n",
      "5284022    50.0   11.0    3.9    NaN                A  \n",
      "5284023    50.0   11.0    3.9    NaN                A  \n",
      "\n",
      "[325 rows x 17 columns]\n",
      "              MMSI         BaseDateTime       LAT       LON   SOG    COG  \\\n",
      "1633903  367108780  2019-07-15T10:16:13  38.77369 -74.86571  13.9    5.0   \n",
      "1633904  367108780  2019-07-15T10:17:25  38.77812 -74.86543  13.4    7.2   \n",
      "1633905  367108780  2019-07-15T10:18:31  38.78227 -74.86484  13.8    6.0   \n",
      "1633906  367108780  2019-07-15T10:20:19  38.78904 -74.86364  13.5   13.8   \n",
      "1633907  367108780  2019-07-15T10:22:19  38.79578 -74.86007  13.3   23.7   \n",
      "...            ...                  ...       ...       ...   ...    ...   \n",
      "1634100  367108780  2019-07-15T14:50:31  38.80132 -74.91095  12.6  187.4   \n",
      "1634101  367108780  2019-07-15T14:53:20  38.79148 -74.91221  12.7  188.0   \n",
      "1634102  367108780  2019-07-15T14:55:02  38.78570 -74.91335  12.4  187.5   \n",
      "1634103  367108780  2019-07-15T14:56:21  38.78111 -74.91429  12.2  187.8   \n",
      "1634104  367108780  2019-07-15T14:57:30  38.77713 -74.91505  12.7  189.1   \n",
      "\n",
      "         Heading          VesselName         IMO CallSign  VesselType  Status  \\\n",
      "1633903    511.0  JOHN S DEMPSTER JR  IMO7437472  WYZ9563        30.0     0.0   \n",
      "1633904    511.0  JOHN S DEMPSTER JR  IMO7437472  WYZ9563        30.0     0.0   \n",
      "1633905    511.0  JOHN S DEMPSTER JR  IMO7437472  WYZ9563        30.0     0.0   \n",
      "1633906    511.0  JOHN S DEMPSTER JR  IMO7437472  WYZ9563        30.0     0.0   \n",
      "1633907    511.0  JOHN S DEMPSTER JR  IMO7437472  WYZ9563        30.0     0.0   \n",
      "...          ...                 ...         ...      ...         ...     ...   \n",
      "1634100    511.0  JOHN S DEMPSTER JR  IMO7437472  WYZ9563        30.0     0.0   \n",
      "1634101    511.0  JOHN S DEMPSTER JR  IMO7437472  WYZ9563        30.0     0.0   \n",
      "1634102    511.0  JOHN S DEMPSTER JR  IMO7437472  WYZ9563        30.0     0.0   \n",
      "1634103    511.0  JOHN S DEMPSTER JR  IMO7437472  WYZ9563        30.0     0.0   \n",
      "1634104    511.0  JOHN S DEMPSTER JR  IMO7437472  WYZ9563        30.0     0.0   \n",
      "\n",
      "         Length  Width  Draft  Cargo TransceiverClass  \n",
      "1633903    50.0    9.0    NaN    NaN                A  \n",
      "1633904    50.0    9.0    NaN    NaN                A  \n",
      "1633905    50.0    9.0    NaN    NaN                A  \n",
      "1633906    50.0    9.0    NaN    NaN                A  \n",
      "1633907    50.0    9.0    NaN    NaN                A  \n",
      "...         ...    ...    ...    ...              ...  \n",
      "1634100    50.0    9.0    NaN    NaN                A  \n",
      "1634101    50.0    9.0    NaN    NaN                A  \n",
      "1634102    50.0    9.0    NaN    NaN                A  \n",
      "1634103    50.0    9.0    NaN    NaN                A  \n",
      "1634104    50.0    9.0    NaN    NaN                A  \n",
      "\n",
      "[202 rows x 17 columns]\n",
      "             MMSI         BaseDateTime       LAT       LON   SOG    COG  \\\n",
      "260762  367772272  2019-06-20T08:40:23  38.77483 -74.69570  12.5   41.5   \n",
      "260764  367772272  2019-06-20T08:41:32  38.77788 -74.69224  12.6   41.6   \n",
      "260766  367772272  2019-06-20T08:42:41  38.78091 -74.68882  12.6   42.8   \n",
      "260767  367772272  2019-06-20T08:43:51  38.78397 -74.68534  12.5   41.3   \n",
      "260769  367772272  2019-06-20T08:45:03  38.78710 -74.68185  12.5   41.7   \n",
      "...           ...                  ...       ...       ...   ...    ...   \n",
      "357976  367772272  2019-08-05T09:59:30  38.77541 -74.84592  12.2    1.7   \n",
      "357977  367772272  2019-08-05T10:00:01  38.77713 -74.84591  11.8    0.2   \n",
      "357979  367772272  2019-08-05T10:01:11  38.78095 -74.84632   9.9  333.5   \n",
      "357981  367772272  2019-08-05T10:02:20  38.77935 -74.84823  11.1  207.5   \n",
      "357982  367772272  2019-08-05T10:03:30  38.77629 -74.85113  11.7  219.1   \n",
      "\n",
      "        Heading VesselName  IMO CallSign  VesselType  Status  Length  Width  \\\n",
      "260762    511.0        NaN  NaN      NaN         NaN    15.0     NaN    NaN   \n",
      "260764    511.0        NaN  NaN      NaN         NaN    15.0     NaN    NaN   \n",
      "260766    511.0        NaN  NaN      NaN         NaN    15.0     NaN    NaN   \n",
      "260767    511.0        NaN  NaN      NaN         NaN    15.0     NaN    NaN   \n",
      "260769    511.0        NaN  NaN      NaN         NaN    15.0     NaN    NaN   \n",
      "...         ...        ...  ...      ...         ...     ...     ...    ...   \n",
      "357976    511.0        NaN  NaN      NaN         NaN    15.0     NaN    NaN   \n",
      "357977    511.0        NaN  NaN      NaN         NaN    15.0     NaN    NaN   \n",
      "357979    511.0        NaN  NaN      NaN         NaN    15.0     NaN    NaN   \n",
      "357981    511.0        NaN  NaN      NaN         NaN    15.0     NaN    NaN   \n",
      "357982    511.0        NaN  NaN      NaN         NaN    15.0     NaN    NaN   \n",
      "\n",
      "        Draft  Cargo TransceiverClass  \n",
      "260762    NaN    NaN                A  \n",
      "260764    NaN    NaN                A  \n",
      "260766    NaN    NaN                A  \n",
      "260767    NaN    NaN                A  \n",
      "260769    NaN    NaN                A  \n",
      "...       ...    ...              ...  \n",
      "357976    NaN    NaN                A  \n",
      "357977    NaN    NaN                A  \n",
      "357979    NaN    NaN                A  \n",
      "357981    NaN    NaN                A  \n",
      "357982    NaN    NaN                A  \n",
      "\n",
      "[370 rows x 17 columns]\n",
      "              MMSI         BaseDateTime       LAT       LON   SOG    COG  \\\n",
      "8238215  367772250  2019-07-15T10:03:33  38.77329 -74.85823  11.8    0.3   \n",
      "8238217  367772250  2019-07-15T10:04:42  38.77715 -74.85832  11.7  356.0   \n",
      "8238218  367772250  2019-07-15T10:05:53  38.78109 -74.85860  12.0  356.6   \n",
      "8238219  367772250  2019-07-15T10:07:03  38.78498 -74.85895  12.4  355.8   \n",
      "8238221  367772250  2019-07-15T10:08:13  38.78901 -74.85946  12.2  351.2   \n",
      "...            ...                  ...       ...       ...   ...    ...   \n",
      "8250107  367772250  2019-08-05T10:05:53  38.78850 -74.84427  11.7  207.5   \n",
      "8250109  367772250  2019-08-05T10:07:04  38.78515 -74.84658  11.8  208.9   \n",
      "8250110  367772250  2019-08-05T10:08:14  38.78177 -74.84885  11.7  208.1   \n",
      "8250111  367772250  2019-08-05T10:09:23  38.77847 -74.85110  11.7  208.7   \n",
      "8250113  367772250  2019-08-05T10:10:33  38.77518 -74.85367  11.4  213.7   \n",
      "\n",
      "         Heading      VesselName         IMO CallSign  VesselType  Status  \\\n",
      "8238215    511.0  WINDMILL POINT  IMO8305511  WDJ3875        90.0    15.0   \n",
      "8238217    511.0  WINDMILL POINT  IMO8305511  WDJ3875        90.0    15.0   \n",
      "8238218    511.0  WINDMILL POINT  IMO8305511  WDJ3875        90.0    15.0   \n",
      "8238219    511.0  WINDMILL POINT  IMO8305511  WDJ3875        90.0    15.0   \n",
      "8238221    511.0  WINDMILL POINT  IMO8305511  WDJ3875        90.0    15.0   \n",
      "...          ...             ...         ...      ...         ...     ...   \n",
      "8250107    511.0  WINDMILL POINT  IMO8305511  WDJ3875        90.0    15.0   \n",
      "8250109    511.0  WINDMILL POINT  IMO8305511  WDJ3875        90.0    15.0   \n",
      "8250110    511.0  WINDMILL POINT  IMO8305511  WDJ3875        90.0    15.0   \n",
      "8250111    511.0  WINDMILL POINT  IMO8305511  WDJ3875        90.0    15.0   \n",
      "8250113    511.0  WINDMILL POINT  IMO8305511  WDJ3875        90.0    15.0   \n",
      "\n",
      "         Length  Width  Draft  Cargo TransceiverClass  \n",
      "8238215    56.0   11.0    3.6    NaN                A  \n",
      "8238217    56.0   11.0    3.6    NaN                A  \n",
      "8238218    56.0   11.0    3.6    NaN                A  \n",
      "8238219    56.0   11.0    3.6    NaN                A  \n",
      "8238221    56.0   11.0    3.6    NaN                A  \n",
      "...         ...    ...    ...    ...              ...  \n",
      "8250107    56.0   11.0    3.6    NaN                A  \n",
      "8250109    56.0   11.0    3.6    NaN                A  \n",
      "8250110    56.0   11.0    3.6    NaN                A  \n",
      "8250111    56.0   11.0    3.6    NaN                A  \n",
      "8250113    56.0   11.0    3.6    NaN                A  \n",
      "\n",
      "[328 rows x 17 columns]\n",
      "Empty DataFrame\n",
      "Columns: [MMSI, BaseDateTime, LAT, LON, SOG, COG, Heading, VesselName, IMO, CallSign, VesselType, Status, Length, Width, Draft, Cargo, TransceiverClass]\n",
      "Index: []\n"
     ]
    }
   ],
   "source": [
    "#Which boats are used in our defined area?\n",
    "print (Tide2019) #Yes\n",
    "print (Calc2019) #Yes\n",
    "print (John2019) #YeS\n",
    "print (Cock2019) #Yes\n",
    "print (Wind2019) #Yes\n",
    "#print (Reed2019) #NO"
   ]
  },
  {
   "cell_type": "code",
   "execution_count": 56,
   "id": "95fce9e7",
   "metadata": {},
   "outputs": [],
   "source": [
    "#Save data frame to a new CSV file:\n",
    "#Calc2019.to_csv('CalcAIS2019.csv') #- Worked\n",
    "#Tide2019.to_csv('TideAIS2019.csv')\n",
    "#John2019.to_csv('JohnAIS2019.csv')\n",
    "#Cock2019.to_csv('CockAIS2019.csv')\n",
    "#Wind2019.to_csv('WindAIS2019.csv')\n",
    "\n",
    "#Combine four vessels into one datasheet quickly using Terminal on Mac: https://serp.co/blog/combine-merge-csv-files-mac/ \n",
    "#Combine Years 2019 & 2020 using Terminal on Mac"
   ]
  },
  {
   "cell_type": "markdown",
   "id": "018d0a8e",
   "metadata": {},
   "source": [
    "Heatmap "
   ]
  },
  {
   "cell_type": "code",
   "execution_count": 18,
   "id": "b15e530c",
   "metadata": {},
   "outputs": [],
   "source": [
    "#Let's create a heat map to visualize high density vessel traffic areas:\n",
    "import pandas as pd\n",
    "import numpy as np\n",
    "import matplotlib.pyplot as plt\n",
    "import seaborn as sns"
   ]
  },
  {
   "cell_type": "code",
   "execution_count": 2,
   "id": "cc0105e4",
   "metadata": {},
   "outputs": [
    {
     "name": "stdout",
     "output_type": "stream",
     "text": [
      "Index(['Unnamed: 0', 'MMSI', 'BaseDateTime', 'LAT', 'LON', 'SOG', 'COG',\n",
      "       'Heading', 'VesselName', 'IMO', 'CallSign', 'VesselType', 'Status',\n",
      "       'Length', 'Width', 'Draft', 'Cargo', 'TransceiverClass'],\n",
      "      dtype='object')\n"
     ]
    }
   ],
   "source": [
    "#Import combined 2019 & 2020 specified vessel track data:\n",
    "AIS20192020 = pd.read_csv('CombinedVesselAIS2019_2020.csv', low_memory=False)\n",
    "#print(AIS20192020)\n",
    "print(AIS20192020.columns)"
   ]
  },
  {
   "cell_type": "code",
   "execution_count": 51,
   "id": "a2ce030d",
   "metadata": {},
   "outputs": [],
   "source": [
    "#Plot the historgram:\n",
    "#x = np.random.rayleigh(50, size=5000)\n",
    "#y = np.random.rayleigh(50, size=5000)\n",
    "#x = AIS20192020[(AIS20192020.LAT)]\n",
    "x = AIS20192020.LON\n",
    "y = AIS20192020.LAT"
   ]
  },
  {
   "cell_type": "code",
   "execution_count": 91,
   "id": "054a67f7",
   "metadata": {},
   "outputs": [
    {
     "data": {
      "image/png": "[encoded data removed]",
      "text/plain": [
       "<Figure size 432x288 with 2 Axes>"
      ]
     },
     "metadata": {
      "needs_background": "light"
     },
     "output_type": "display_data"
    }
   ],
   "source": [
    "ax = sns.histplot(data=AIS20192020, x=\"LON\", y=\"LAT\", bins=100, cbar=True)"
   ]
  },
  {
   "cell_type": "code",
   "execution_count": 57,
   "id": "e1a89a8a",
   "metadata": {
    "scrolled": true
   },
   "outputs": [],
   "source": [
    "#plt.hist2d(x,y, bins=10) \n",
    "#bins=[np.arange(-74.00,-75.00,5),np.arange(38.00,40.00,5)])\n",
    "#bins=[np.arange(-74.00,-75.00,5),np.arange(38.00,40.00,5)])\n",
    "#plt.show()"
   ]
  },
  {
   "cell_type": "code",
   "execution_count": 89,
   "id": "8eb4b665",
   "metadata": {},
   "outputs": [
    {
     "data": {
      "text/plain": [
       "(array([[5066., 5001., 4494., 3671., 3274.,    0.,    0.,    0.,    0.,\n",
       "            0.],\n",
       "        [   0.,    0.,    0.,    0.,  554., 4897., 4496., 4240., 3604.,\n",
       "         3715.]]),\n",
       " array([    0. ,  2794.9,  5589.8,  8384.7, 11179.6, 13974.5, 16769.4,\n",
       "        19564.3, 22359.2, 25154.1, 27949. ]),\n",
       " <a list of 2 BarContainer objects>)"
      ]
     },
     "execution_count": 89,
     "metadata": {},
     "output_type": "execute_result"
    },
    {
     "data": {
      "image/png": "[encoded data removed]",
      "text/plain": [
       "<Figure size 432x288 with 1 Axes>"
      ]
     },
     "metadata": {
      "needs_background": "light"
     },
     "output_type": "display_data"
    }
   ],
   "source": [
    "df = pd.read_csv('CombinedVesselAIS2019_2020.csv', \n",
    "                 usecols=[3,4], names=['LAT', 'LON'], \n",
    "                 skiprows=1)\n",
    "y=pd.read_csv('CombinedVesselAIS2019_2020.csv', \n",
    "                 usecols=[3], names=['LAT'], \n",
    "                 skiprows=1)\n",
    "x=pd.read_csv('CombinedVesselAIS2019_2020.csv', \n",
    "                 usecols=[4], names=['LON'], \n",
    "                 skiprows=1)\n",
    "plt.hist(df)"
   ]
  },
  {
   "cell_type": "code",
   "execution_count": 88,
   "id": "17b73a6c",
   "metadata": {},
   "outputs": [
    {
     "ename": "ConversionError",
     "evalue": "Failed to convert value(s) to axis units:             LAT        LON\n0      38.77682  -74.85453\n1      38.78349  -74.85151\n2      38.78728   -74.8499\n3      38.79263  -74.84789\n4      38.79698  -74.84624\n...         ...        ...\n21501  38.74621  -74.79506\n21502  38.74235  -74.79666\n21503  38.73869  -74.79816\n21504  38.73271  -74.80071\n21505  38.72906  -74.80226\n\n[21506 rows x 2 columns]",
     "output_type": "error",
     "traceback": [
      "\u001b[0;31m---------------------------------------------------------------------------\u001b[0m",
      "\u001b[0;31mTypeError\u001b[0m                                 Traceback (most recent call last)",
      "File \u001b[0;32m~/opt/anaconda3/lib/python3.9/site-packages/matplotlib/axis.py:1506\u001b[0m, in \u001b[0;36mAxis.convert_units\u001b[0;34m(self, x)\u001b[0m\n\u001b[1;32m   1505\u001b[0m \u001b[38;5;28;01mtry\u001b[39;00m:\n\u001b[0;32m-> 1506\u001b[0m     ret \u001b[38;5;241m=\u001b[39m \u001b[38;5;28;43mself\u001b[39;49m\u001b[38;5;241;43m.\u001b[39;49m\u001b[43mconverter\u001b[49m\u001b[38;5;241;43m.\u001b[39;49m\u001b[43mconvert\u001b[49m\u001b[43m(\u001b[49m\u001b[43mx\u001b[49m\u001b[43m,\u001b[49m\u001b[43m \u001b[49m\u001b[38;5;28;43mself\u001b[39;49m\u001b[38;5;241;43m.\u001b[39;49m\u001b[43munits\u001b[49m\u001b[43m,\u001b[49m\u001b[43m \u001b[49m\u001b[38;5;28;43mself\u001b[39;49m\u001b[43m)\u001b[49m\n\u001b[1;32m   1507\u001b[0m \u001b[38;5;28;01mexcept\u001b[39;00m \u001b[38;5;167;01mException\u001b[39;00m \u001b[38;5;28;01mas\u001b[39;00m e:\n",
      "File \u001b[0;32m~/opt/anaconda3/lib/python3.9/site-packages/matplotlib/category.py:68\u001b[0m, in \u001b[0;36mStrCategoryConverter.convert\u001b[0;34m(value, unit, axis)\u001b[0m\n\u001b[1;32m     67\u001b[0m \u001b[38;5;66;03m# force an update so it also does type checking\u001b[39;00m\n\u001b[0;32m---> 68\u001b[0m \u001b[43munit\u001b[49m\u001b[38;5;241;43m.\u001b[39;49m\u001b[43mupdate\u001b[49m\u001b[43m(\u001b[49m\u001b[43mvalues\u001b[49m\u001b[43m)\u001b[49m\n\u001b[1;32m     69\u001b[0m \u001b[38;5;28;01mreturn\u001b[39;00m np\u001b[38;5;241m.\u001b[39mvectorize(unit\u001b[38;5;241m.\u001b[39m_mapping\u001b[38;5;241m.\u001b[39m\u001b[38;5;21m__getitem__\u001b[39m, otypes\u001b[38;5;241m=\u001b[39m[\u001b[38;5;28mfloat\u001b[39m])(values)\n",
      "File \u001b[0;32m~/opt/anaconda3/lib/python3.9/site-packages/matplotlib/category.py:225\u001b[0m, in \u001b[0;36mUnitData.update\u001b[0;34m(self, data)\u001b[0m\n\u001b[1;32m    224\u001b[0m convertible \u001b[38;5;241m=\u001b[39m \u001b[38;5;28;01mTrue\u001b[39;00m\n\u001b[0;32m--> 225\u001b[0m \u001b[38;5;28;01mfor\u001b[39;00m val \u001b[38;5;129;01min\u001b[39;00m \u001b[43mOrderedDict\u001b[49m\u001b[38;5;241;43m.\u001b[39;49m\u001b[43mfromkeys\u001b[49m\u001b[43m(\u001b[49m\u001b[43mdata\u001b[49m\u001b[43m)\u001b[49m:\n\u001b[1;32m    226\u001b[0m     \u001b[38;5;66;03m# OrderedDict just iterates over unique values in data.\u001b[39;00m\n\u001b[1;32m    227\u001b[0m     _api\u001b[38;5;241m.\u001b[39mcheck_isinstance((\u001b[38;5;28mstr\u001b[39m, \u001b[38;5;28mbytes\u001b[39m), value\u001b[38;5;241m=\u001b[39mval)\n",
      "\u001b[0;31mTypeError\u001b[0m: unhashable type: 'numpy.ndarray'",
      "\nThe above exception was the direct cause of the following exception:\n",
      "\u001b[0;31mConversionError\u001b[0m                           Traceback (most recent call last)",
      "Input \u001b[0;32mIn [88]\u001b[0m, in \u001b[0;36m<cell line: 1>\u001b[0;34m()\u001b[0m\n\u001b[0;32m----> 1\u001b[0m \u001b[43mplt\u001b[49m\u001b[38;5;241;43m.\u001b[39;49m\u001b[43mhist\u001b[49m\u001b[43m(\u001b[49m\u001b[43mx\u001b[49m\u001b[43m,\u001b[49m\u001b[43my\u001b[49m\u001b[43m,\u001b[49m\u001b[43mdf\u001b[49m\u001b[43m)\u001b[49m\n\u001b[1;32m      2\u001b[0m plt\u001b[38;5;241m.\u001b[39mshow()\n",
      "File \u001b[0;32m~/opt/anaconda3/lib/python3.9/site-packages/matplotlib/pyplot.py:2590\u001b[0m, in \u001b[0;36mhist\u001b[0;34m(x, bins, range, density, weights, cumulative, bottom, histtype, align, orientation, rwidth, log, color, label, stacked, data, **kwargs)\u001b[0m\n\u001b[1;32m   2584\u001b[0m \u001b[38;5;129m@_copy_docstring_and_deprecators\u001b[39m(Axes\u001b[38;5;241m.\u001b[39mhist)\n\u001b[1;32m   2585\u001b[0m \u001b[38;5;28;01mdef\u001b[39;00m \u001b[38;5;21mhist\u001b[39m(\n\u001b[1;32m   2586\u001b[0m         x, bins\u001b[38;5;241m=\u001b[39m\u001b[38;5;28;01mNone\u001b[39;00m, \u001b[38;5;28mrange\u001b[39m\u001b[38;5;241m=\u001b[39m\u001b[38;5;28;01mNone\u001b[39;00m, density\u001b[38;5;241m=\u001b[39m\u001b[38;5;28;01mFalse\u001b[39;00m, weights\u001b[38;5;241m=\u001b[39m\u001b[38;5;28;01mNone\u001b[39;00m,\n\u001b[1;32m   2587\u001b[0m         cumulative\u001b[38;5;241m=\u001b[39m\u001b[38;5;28;01mFalse\u001b[39;00m, bottom\u001b[38;5;241m=\u001b[39m\u001b[38;5;28;01mNone\u001b[39;00m, histtype\u001b[38;5;241m=\u001b[39m\u001b[38;5;124m'\u001b[39m\u001b[38;5;124mbar\u001b[39m\u001b[38;5;124m'\u001b[39m, align\u001b[38;5;241m=\u001b[39m\u001b[38;5;124m'\u001b[39m\u001b[38;5;124mmid\u001b[39m\u001b[38;5;124m'\u001b[39m,\n\u001b[1;32m   2588\u001b[0m         orientation\u001b[38;5;241m=\u001b[39m\u001b[38;5;124m'\u001b[39m\u001b[38;5;124mvertical\u001b[39m\u001b[38;5;124m'\u001b[39m, rwidth\u001b[38;5;241m=\u001b[39m\u001b[38;5;28;01mNone\u001b[39;00m, log\u001b[38;5;241m=\u001b[39m\u001b[38;5;28;01mFalse\u001b[39;00m, color\u001b[38;5;241m=\u001b[39m\u001b[38;5;28;01mNone\u001b[39;00m,\n\u001b[1;32m   2589\u001b[0m         label\u001b[38;5;241m=\u001b[39m\u001b[38;5;28;01mNone\u001b[39;00m, stacked\u001b[38;5;241m=\u001b[39m\u001b[38;5;28;01mFalse\u001b[39;00m, \u001b[38;5;241m*\u001b[39m, data\u001b[38;5;241m=\u001b[39m\u001b[38;5;28;01mNone\u001b[39;00m, \u001b[38;5;241m*\u001b[39m\u001b[38;5;241m*\u001b[39mkwargs):\n\u001b[0;32m-> 2590\u001b[0m     \u001b[38;5;28;01mreturn\u001b[39;00m \u001b[43mgca\u001b[49m\u001b[43m(\u001b[49m\u001b[43m)\u001b[49m\u001b[38;5;241;43m.\u001b[39;49m\u001b[43mhist\u001b[49m\u001b[43m(\u001b[49m\n\u001b[1;32m   2591\u001b[0m \u001b[43m        \u001b[49m\u001b[43mx\u001b[49m\u001b[43m,\u001b[49m\u001b[43m \u001b[49m\u001b[43mbins\u001b[49m\u001b[38;5;241;43m=\u001b[39;49m\u001b[43mbins\u001b[49m\u001b[43m,\u001b[49m\u001b[43m \u001b[49m\u001b[38;5;28;43mrange\u001b[39;49m\u001b[38;5;241;43m=\u001b[39;49m\u001b[38;5;28;43mrange\u001b[39;49m\u001b[43m,\u001b[49m\u001b[43m \u001b[49m\u001b[43mdensity\u001b[49m\u001b[38;5;241;43m=\u001b[39;49m\u001b[43mdensity\u001b[49m\u001b[43m,\u001b[49m\u001b[43m \u001b[49m\u001b[43mweights\u001b[49m\u001b[38;5;241;43m=\u001b[39;49m\u001b[43mweights\u001b[49m\u001b[43m,\u001b[49m\n\u001b[1;32m   2592\u001b[0m \u001b[43m        \u001b[49m\u001b[43mcumulative\u001b[49m\u001b[38;5;241;43m=\u001b[39;49m\u001b[43mcumulative\u001b[49m\u001b[43m,\u001b[49m\u001b[43m \u001b[49m\u001b[43mbottom\u001b[49m\u001b[38;5;241;43m=\u001b[39;49m\u001b[43mbottom\u001b[49m\u001b[43m,\u001b[49m\u001b[43m \u001b[49m\u001b[43mhisttype\u001b[49m\u001b[38;5;241;43m=\u001b[39;49m\u001b[43mhisttype\u001b[49m\u001b[43m,\u001b[49m\n\u001b[1;32m   2593\u001b[0m \u001b[43m        \u001b[49m\u001b[43malign\u001b[49m\u001b[38;5;241;43m=\u001b[39;49m\u001b[43malign\u001b[49m\u001b[43m,\u001b[49m\u001b[43m \u001b[49m\u001b[43morientation\u001b[49m\u001b[38;5;241;43m=\u001b[39;49m\u001b[43morientation\u001b[49m\u001b[43m,\u001b[49m\u001b[43m \u001b[49m\u001b[43mrwidth\u001b[49m\u001b[38;5;241;43m=\u001b[39;49m\u001b[43mrwidth\u001b[49m\u001b[43m,\u001b[49m\u001b[43m \u001b[49m\u001b[43mlog\u001b[49m\u001b[38;5;241;43m=\u001b[39;49m\u001b[43mlog\u001b[49m\u001b[43m,\u001b[49m\n\u001b[1;32m   2594\u001b[0m \u001b[43m        \u001b[49m\u001b[43mcolor\u001b[49m\u001b[38;5;241;43m=\u001b[39;49m\u001b[43mcolor\u001b[49m\u001b[43m,\u001b[49m\u001b[43m \u001b[49m\u001b[43mlabel\u001b[49m\u001b[38;5;241;43m=\u001b[39;49m\u001b[43mlabel\u001b[49m\u001b[43m,\u001b[49m\u001b[43m \u001b[49m\u001b[43mstacked\u001b[49m\u001b[38;5;241;43m=\u001b[39;49m\u001b[43mstacked\u001b[49m\u001b[43m,\u001b[49m\n\u001b[1;32m   2595\u001b[0m \u001b[43m        \u001b[49m\u001b[38;5;241;43m*\u001b[39;49m\u001b[38;5;241;43m*\u001b[39;49m\u001b[43m(\u001b[49m\u001b[43m{\u001b[49m\u001b[38;5;124;43m\"\u001b[39;49m\u001b[38;5;124;43mdata\u001b[39;49m\u001b[38;5;124;43m\"\u001b[39;49m\u001b[43m:\u001b[49m\u001b[43m \u001b[49m\u001b[43mdata\u001b[49m\u001b[43m}\u001b[49m\u001b[43m \u001b[49m\u001b[38;5;28;43;01mif\u001b[39;49;00m\u001b[43m \u001b[49m\u001b[43mdata\u001b[49m\u001b[43m \u001b[49m\u001b[38;5;129;43;01mis\u001b[39;49;00m\u001b[43m \u001b[49m\u001b[38;5;129;43;01mnot\u001b[39;49;00m\u001b[43m \u001b[49m\u001b[38;5;28;43;01mNone\u001b[39;49;00m\u001b[43m \u001b[49m\u001b[38;5;28;43;01melse\u001b[39;49;00m\u001b[43m \u001b[49m\u001b[43m{\u001b[49m\u001b[43m}\u001b[49m\u001b[43m)\u001b[49m\u001b[43m,\u001b[49m\u001b[43m \u001b[49m\u001b[38;5;241;43m*\u001b[39;49m\u001b[38;5;241;43m*\u001b[39;49m\u001b[43mkwargs\u001b[49m\u001b[43m)\u001b[49m\n",
      "File \u001b[0;32m~/opt/anaconda3/lib/python3.9/site-packages/matplotlib/__init__.py:1412\u001b[0m, in \u001b[0;36m_preprocess_data.<locals>.inner\u001b[0;34m(ax, data, *args, **kwargs)\u001b[0m\n\u001b[1;32m   1409\u001b[0m \u001b[38;5;129m@functools\u001b[39m\u001b[38;5;241m.\u001b[39mwraps(func)\n\u001b[1;32m   1410\u001b[0m \u001b[38;5;28;01mdef\u001b[39;00m \u001b[38;5;21minner\u001b[39m(ax, \u001b[38;5;241m*\u001b[39margs, data\u001b[38;5;241m=\u001b[39m\u001b[38;5;28;01mNone\u001b[39;00m, \u001b[38;5;241m*\u001b[39m\u001b[38;5;241m*\u001b[39mkwargs):\n\u001b[1;32m   1411\u001b[0m     \u001b[38;5;28;01mif\u001b[39;00m data \u001b[38;5;129;01mis\u001b[39;00m \u001b[38;5;28;01mNone\u001b[39;00m:\n\u001b[0;32m-> 1412\u001b[0m         \u001b[38;5;28;01mreturn\u001b[39;00m \u001b[43mfunc\u001b[49m\u001b[43m(\u001b[49m\u001b[43max\u001b[49m\u001b[43m,\u001b[49m\u001b[43m \u001b[49m\u001b[38;5;241;43m*\u001b[39;49m\u001b[38;5;28;43mmap\u001b[39;49m\u001b[43m(\u001b[49m\u001b[43msanitize_sequence\u001b[49m\u001b[43m,\u001b[49m\u001b[43m \u001b[49m\u001b[43margs\u001b[49m\u001b[43m)\u001b[49m\u001b[43m,\u001b[49m\u001b[43m \u001b[49m\u001b[38;5;241;43m*\u001b[39;49m\u001b[38;5;241;43m*\u001b[39;49m\u001b[43mkwargs\u001b[49m\u001b[43m)\u001b[49m\n\u001b[1;32m   1414\u001b[0m     bound \u001b[38;5;241m=\u001b[39m new_sig\u001b[38;5;241m.\u001b[39mbind(ax, \u001b[38;5;241m*\u001b[39margs, \u001b[38;5;241m*\u001b[39m\u001b[38;5;241m*\u001b[39mkwargs)\n\u001b[1;32m   1415\u001b[0m     auto_label \u001b[38;5;241m=\u001b[39m (bound\u001b[38;5;241m.\u001b[39marguments\u001b[38;5;241m.\u001b[39mget(label_namer)\n\u001b[1;32m   1416\u001b[0m                   \u001b[38;5;129;01mor\u001b[39;00m bound\u001b[38;5;241m.\u001b[39mkwargs\u001b[38;5;241m.\u001b[39mget(label_namer))\n",
      "File \u001b[0;32m~/opt/anaconda3/lib/python3.9/site-packages/matplotlib/axes/_axes.py:6568\u001b[0m, in \u001b[0;36mAxes.hist\u001b[0;34m(self, x, bins, range, density, weights, cumulative, bottom, histtype, align, orientation, rwidth, log, color, label, stacked, **kwargs)\u001b[0m\n\u001b[1;32m   6564\u001b[0m     x \u001b[38;5;241m=\u001b[39m [\u001b[38;5;241m*\u001b[39m\u001b[38;5;28mself\u001b[39m\u001b[38;5;241m.\u001b[39m_process_unit_info([(\u001b[38;5;124m\"\u001b[39m\u001b[38;5;124my\u001b[39m\u001b[38;5;124m\"\u001b[39m, x[\u001b[38;5;241m0\u001b[39m])], kwargs),\n\u001b[1;32m   6565\u001b[0m          \u001b[38;5;241m*\u001b[39m\u001b[38;5;28mmap\u001b[39m(convert_units, x[\u001b[38;5;241m1\u001b[39m:])]\n\u001b[1;32m   6567\u001b[0m \u001b[38;5;28;01mif\u001b[39;00m bin_range \u001b[38;5;129;01mis\u001b[39;00m \u001b[38;5;129;01mnot\u001b[39;00m \u001b[38;5;28;01mNone\u001b[39;00m:\n\u001b[0;32m-> 6568\u001b[0m     bin_range \u001b[38;5;241m=\u001b[39m \u001b[43mconvert_units\u001b[49m\u001b[43m(\u001b[49m\u001b[43mbin_range\u001b[49m\u001b[43m)\u001b[49m\n\u001b[1;32m   6570\u001b[0m \u001b[38;5;28;01mif\u001b[39;00m \u001b[38;5;129;01mnot\u001b[39;00m cbook\u001b[38;5;241m.\u001b[39mis_scalar_or_string(bins):\n\u001b[1;32m   6571\u001b[0m     bins \u001b[38;5;241m=\u001b[39m convert_units(bins)\n",
      "File \u001b[0;32m~/opt/anaconda3/lib/python3.9/site-packages/matplotlib/artist.py:252\u001b[0m, in \u001b[0;36mArtist.convert_xunits\u001b[0;34m(self, x)\u001b[0m\n\u001b[1;32m    250\u001b[0m \u001b[38;5;28;01mif\u001b[39;00m ax \u001b[38;5;129;01mis\u001b[39;00m \u001b[38;5;28;01mNone\u001b[39;00m \u001b[38;5;129;01mor\u001b[39;00m ax\u001b[38;5;241m.\u001b[39mxaxis \u001b[38;5;129;01mis\u001b[39;00m \u001b[38;5;28;01mNone\u001b[39;00m:\n\u001b[1;32m    251\u001b[0m     \u001b[38;5;28;01mreturn\u001b[39;00m x\n\u001b[0;32m--> 252\u001b[0m \u001b[38;5;28;01mreturn\u001b[39;00m \u001b[43max\u001b[49m\u001b[38;5;241;43m.\u001b[39;49m\u001b[43mxaxis\u001b[49m\u001b[38;5;241;43m.\u001b[39;49m\u001b[43mconvert_units\u001b[49m\u001b[43m(\u001b[49m\u001b[43mx\u001b[49m\u001b[43m)\u001b[49m\n",
      "File \u001b[0;32m~/opt/anaconda3/lib/python3.9/site-packages/matplotlib/axis.py:1508\u001b[0m, in \u001b[0;36mAxis.convert_units\u001b[0;34m(self, x)\u001b[0m\n\u001b[1;32m   1506\u001b[0m     ret \u001b[38;5;241m=\u001b[39m \u001b[38;5;28mself\u001b[39m\u001b[38;5;241m.\u001b[39mconverter\u001b[38;5;241m.\u001b[39mconvert(x, \u001b[38;5;28mself\u001b[39m\u001b[38;5;241m.\u001b[39munits, \u001b[38;5;28mself\u001b[39m)\n\u001b[1;32m   1507\u001b[0m \u001b[38;5;28;01mexcept\u001b[39;00m \u001b[38;5;167;01mException\u001b[39;00m \u001b[38;5;28;01mas\u001b[39;00m e:\n\u001b[0;32m-> 1508\u001b[0m     \u001b[38;5;28;01mraise\u001b[39;00m munits\u001b[38;5;241m.\u001b[39mConversionError(\u001b[38;5;124m'\u001b[39m\u001b[38;5;124mFailed to convert value(s) to axis \u001b[39m\u001b[38;5;124m'\u001b[39m\n\u001b[1;32m   1509\u001b[0m                                  \u001b[38;5;124mf\u001b[39m\u001b[38;5;124m'\u001b[39m\u001b[38;5;124munits: \u001b[39m\u001b[38;5;132;01m{\u001b[39;00mx\u001b[38;5;132;01m!r}\u001b[39;00m\u001b[38;5;124m'\u001b[39m) \u001b[38;5;28;01mfrom\u001b[39;00m \u001b[38;5;21;01me\u001b[39;00m\n\u001b[1;32m   1510\u001b[0m \u001b[38;5;28;01mreturn\u001b[39;00m ret\n",
      "\u001b[0;31mConversionError\u001b[0m: Failed to convert value(s) to axis units:             LAT        LON\n0      38.77682  -74.85453\n1      38.78349  -74.85151\n2      38.78728   -74.8499\n3      38.79263  -74.84789\n4      38.79698  -74.84624\n...         ...        ...\n21501  38.74621  -74.79506\n21502  38.74235  -74.79666\n21503  38.73869  -74.79816\n21504  38.73271  -74.80071\n21505  38.72906  -74.80226\n\n[21506 rows x 2 columns]"
     ]
    },
    {
     "data": {
      "image/png": "[encoded data removed]",
      "text/plain": [
       "<Figure size 432x288 with 1 Axes>"
      ]
     },
     "metadata": {
      "needs_background": "light"
     },
     "output_type": "display_data"
    }
   ],
   "source": [
    "plt.hist2d(x,y,df)\n",
    "plt.show()"
   ]
  },
  {
   "cell_type": "markdown",
   "id": "f04ff8cd",
   "metadata": {},
   "source": [
    "Learning more about our data:"
   ]
  },
  {
   "cell_type": "code",
   "execution_count": 3,
   "id": "d4c4573a",
   "metadata": {},
   "outputs": [
    {
     "name": "stdout",
     "output_type": "stream",
     "text": [
      "Index(['Unnamed: 0', 'MMSI', 'BaseDateTime', 'LAT', 'LON', 'SOG', 'COG',\n",
      "       'Heading', 'VesselName', 'IMO', 'CallSign', 'VesselType', 'Status',\n",
      "       'Length', 'Width', 'Draft', 'Cargo', 'TransceiverClass'],\n",
      "      dtype='object')\n"
     ]
    }
   ],
   "source": [
    "#Import combined 2019 & 2020 specified vessel track data:\n",
    "AIS20192020 = pd.read_csv('CombinedVesselAIS2019_2020.csv', low_memory=False)\n",
    "#print(AIS20192020)\n",
    "print(AIS20192020.columns)"
   ]
  },
  {
   "cell_type": "code",
   "execution_count": 5,
   "id": "c4e6cedd",
   "metadata": {},
   "outputs": [
    {
     "data": {
      "text/plain": [
       "0        2019-07-15T10:24:04\n",
       "1        2019-07-15T10:26:14\n",
       "2        2019-07-15T10:27:25\n",
       "3        2019-07-15T10:29:05\n",
       "4        2019-07-15T10:30:25\n",
       "                ...         \n",
       "21501    2020-10-14T13:16:05\n",
       "21502    2020-10-14T13:17:16\n",
       "21503    2020-10-14T13:18:24\n",
       "21504    2020-10-14T13:20:16\n",
       "21505    2020-10-14T13:21:24\n",
       "Name: BaseDateTime, Length: 21506, dtype: object"
      ]
     },
     "execution_count": 5,
     "metadata": {},
     "output_type": "execute_result"
    }
   ],
   "source": [
    "#For this data set, they have combined both Date and Time in the same column. We want to separate the date from the time to examine the different months of occurence:\n",
    "AIS20192020.BaseDateTime"
   ]
  },
  {
   "cell_type": "code",
   "execution_count": 32,
   "id": "25d659f6",
   "metadata": {},
   "outputs": [
    {
     "data": {
      "text/plain": [
       "0        2019-07-15\n",
       "1        2019-07-15\n",
       "2        2019-07-15\n",
       "3        2019-07-15\n",
       "4        2019-07-15\n",
       "            ...    \n",
       "21501    2020-10-14\n",
       "21502    2020-10-14\n",
       "21503    2020-10-14\n",
       "21504    2020-10-14\n",
       "21505    2020-10-14\n",
       "Name: Date, Length: 21506, dtype: object"
      ]
     },
     "execution_count": 32,
     "metadata": {},
     "output_type": "execute_result"
    }
   ],
   "source": [
    "#To split into multiple columns by delimiter: https://datascienceparichay.com/article/pandas-split-column-by-delimiter/\n",
    "AIS20192020['BaseDateTime'].str.split('T', expand=True)\n",
    "# Split column and add new columns to df\n",
    "AIS20192020[['Date', 'Time']] = AIS20192020['BaseDateTime'].str.split('T', expand=True)\n",
    "# Display the NEW dataframe - Date and Time are now separated.\n",
    "AIS20192020.Date"
   ]
  },
  {
   "cell_type": "code",
   "execution_count": 33,
   "id": "50e5dcdb",
   "metadata": {},
   "outputs": [
    {
     "data": {
      "text/plain": [
       "2020-10-03    2073\n",
       "2020-10-02    1910\n",
       "2020-07-27    1420\n",
       "2020-06-22    1346\n",
       "2020-08-31    1267\n",
       "2020-06-29    1104\n",
       "2020-08-24    1073\n",
       "2019-07-15    1073\n",
       "2020-10-06    1015\n",
       "2020-08-21     764\n",
       "2020-08-20     750\n",
       "2020-10-09     686\n",
       "2020-09-08     629\n",
       "2020-07-14     561\n",
       "2020-08-28     556\n",
       "2020-10-14     472\n",
       "2020-08-23     458\n",
       "2020-08-18     446\n",
       "2020-08-19     438\n",
       "2020-07-06     420\n",
       "2020-09-04     402\n",
       "2020-06-01     378\n",
       "2020-08-25     349\n",
       "2020-06-23     301\n",
       "2020-09-28     272\n",
       "2020-09-16     188\n",
       "2020-06-08     184\n",
       "2020-07-13     162\n",
       "2019-07-29     160\n",
       "2019-07-18     153\n",
       "2019-07-17     118\n",
       "2020-07-28      97\n",
       "2019-08-05      90\n",
       "2019-06-20      86\n",
       "2020-09-17      37\n",
       "2020-07-01      27\n",
       "2020-09-26      18\n",
       "2020-09-27      15\n",
       "BaseDate         8\n",
       "Name: Date, dtype: int64"
      ]
     },
     "execution_count": 33,
     "metadata": {},
     "output_type": "execute_result"
    }
   ],
   "source": [
    "#s.dt.date.value_counts()\n",
    "AIS20192020.Date.value_counts()"
   ]
  },
  {
   "cell_type": "code",
   "execution_count": 29,
   "id": "59e9d839",
   "metadata": {},
   "outputs": [
    {
     "ename": "SyntaxError",
     "evalue": "invalid syntax (514423315.py, line 4)",
     "output_type": "error",
     "traceback": [
      "\u001b[0;36m  Input \u001b[0;32mIn [29]\u001b[0;36m\u001b[0m\n\u001b[0;31m    df['AIS20192020.Date].groupby(df.Date.dt.to_period(\"M\")).agg('count'))\u001b[0m\n\u001b[0m                                                                  ^\u001b[0m\n\u001b[0;31mSyntaxError\u001b[0m\u001b[0;31m:\u001b[0m invalid syntax\n"
     ]
    }
   ],
   "source": [
    "\n",
    "#df = pd.AIS20192020({'Date': pd.date_range(start='01-01-2019', end='31-12-2020')})\n",
    "df = pd.DataFrame({'AIS20192020.Date': pd.date_range(start='01-01-2019', end='31-12-2020')})\n",
    "#df.set_index('AIS20192020.Date').resample('M').size()\n",
    "df['AIS20192020.Date].groupby(df.Date.dt.to_period(\"M\")).agg('count'"
   ]
  },
  {
   "cell_type": "code",
   "execution_count": null,
   "id": "34bef70b",
   "metadata": {},
   "outputs": [],
   "source": []
  }
 ],
 "metadata": {
  "kernelspec": {
   "display_name": "Python 3 (ipykernel)",
   "language": "python",
   "name": "python3"
  },
  "language_info": {
   "codemirror_mode": {
    "name": "ipython",
    "version": 3
   },
   "file_extension": ".py",
   "mimetype": "text/x-python",
   "name": "python",
   "nbconvert_exporter": "python",
   "pygments_lexer": "ipython3",
   "version": "3.9.7"
  }
 },
 "nbformat": 4,
 "nbformat_minor": 5
}
